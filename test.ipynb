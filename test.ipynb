{
 "cells": [
  {
   "cell_type": "code",
   "execution_count": 1,
   "metadata": {},
   "outputs": [],
   "source": [
    "DATADIR = 'C:\\\\Users\\\\home\\\\Desktop\\\\nirva-agni bscode\\\\Fire Dataset PCD\\\\test' # training path\n",
    "CATEGORIES = ['neutral','fire','smoke']"
   ]
  },
  {
   "cell_type": "code",
   "execution_count": 6,
   "metadata": {},
   "outputs": [],
   "source": [
    "import os\n",
    "import cv2\n",
    "import numpy as np\n",
    "from tqdm import tqdm\n",
    "# Just for theme\n",
    "import matplotlib as mpl\n",
    "IMG_SIZE = 64\n",
    "def create_testing_data():\n",
    "    training_data = []\n",
    "    for category in CATEGORIES:\n",
    "\n",
    "        path = os.path.join(DATADIR,category)\n",
    "        class_num = CATEGORIES.index(category)  # converting corresponding category\n",
    "\n",
    "        for img in tqdm(os.listdir(path)):  # lặp qua từng ảnh một\n",
    "            try:\n",
    "                img_array = cv2.imread(os.path.join(path,img))  # chuyển đổi qua mảng\n",
    "                new_array = cv2.resize(img_array, (IMG_SIZE, IMG_SIZE))  # đặt lại size ảnh\n",
    "                training_data.append([new_array, class_num])  # thêm vào tập training_data\n",
    "            except Exception as e:  # giữ dữ liệu luôn sạch\n",
    "                pass\n",
    "\n",
    "    return training_data"
   ]
  },
  {
   "cell_type": "code",
   "execution_count": 7,
   "metadata": {},
   "outputs": [
    {
     "name": "stderr",
     "output_type": "stream",
     "text": [
      "  0%|          | 0/214 [00:00<?, ?it/s]"
     ]
    },
    {
     "name": "stderr",
     "output_type": "stream",
     "text": [
      "100%|██████████| 214/214 [00:04<00:00, 49.13it/s] \n",
      "100%|██████████| 271/271 [00:01<00:00, 187.79it/s]\n",
      "100%|██████████| 223/223 [00:01<00:00, 222.00it/s]\n"
     ]
    }
   ],
   "source": [
    "testing_data = create_testing_data()"
   ]
  },
  {
   "cell_type": "code",
   "execution_count": 8,
   "metadata": {},
   "outputs": [
    {
     "name": "stderr",
     "output_type": "stream",
     "text": [
      "WARNING:absl:Compiled the loaded model, but the compiled metrics have yet to be built. `model.compile_metrics` will be empty until you train or evaluate the model.\n"
     ]
    }
   ],
   "source": [
    "from tensorflow.keras.models import load_model\n",
    "model=load_model('C:/Users/home/Desktop/nirva-agni bscode/v1.h5')"
   ]
  },
  {
   "cell_type": "code",
   "execution_count": 9,
   "metadata": {},
   "outputs": [
    {
     "name": "stdout",
     "output_type": "stream",
     "text": [
      "708\n",
      "708\n"
     ]
    },
    {
     "data": {
      "text/plain": [
       "array([2, 2, 1, 2, 0, 1, 2, 0, 0, 1, 0, 2, 0, 1, 2, 0, 1, 0, 0, 0, 1, 0,\n",
       "       1, 1, 0, 0, 2, 0, 1, 2, 1, 1, 2, 2, 0, 1, 2, 2, 1, 0, 0, 1, 2, 1,\n",
       "       1, 0, 1, 2, 2, 1, 1, 2, 0, 1, 1, 0, 1, 1, 1, 0, 0, 1, 1, 0, 1, 2,\n",
       "       0, 0, 2, 0, 1, 0, 0, 0, 2, 1, 2, 0, 1, 1, 2, 0, 1, 2, 0, 1, 1, 1,\n",
       "       2, 2, 0, 2, 0, 1, 1, 1, 0, 1, 0, 0, 1, 1, 2, 0, 2, 1, 2, 2, 2, 2,\n",
       "       2, 1, 2, 1, 1, 0, 1, 0, 0, 2, 1, 2, 1, 0, 2, 0, 2, 1, 0, 0, 2, 1,\n",
       "       1, 2, 1, 0, 1, 2, 2, 0, 2, 2, 2, 1, 1, 2, 0, 1, 2, 0, 1, 2, 0, 0,\n",
       "       0, 1, 0, 1, 0, 1, 2, 0, 0, 0, 0, 2, 2, 2, 2, 1, 0, 0, 1, 2, 1, 2,\n",
       "       1, 0, 1, 0, 1, 0, 1, 1, 2, 1, 2, 1, 1, 0, 1, 1, 1, 2, 0, 0, 2, 1,\n",
       "       2, 0, 0, 2, 0, 0, 0, 1, 1, 2, 2, 0, 2, 1, 1, 2, 0, 1, 2, 1, 1, 1,\n",
       "       2, 2, 1, 2, 2, 2, 2, 2, 0, 1, 2, 2, 2, 0, 0, 1, 2, 1, 1, 2, 2, 2,\n",
       "       2, 1, 0, 1, 2, 0, 0, 1, 1, 2, 2, 0, 0, 0, 1, 0, 1, 0, 2, 0, 2, 2,\n",
       "       1, 1, 2, 2, 2, 1, 1, 1, 2, 2, 2, 1, 1, 0, 0, 0, 2, 0, 2, 1, 0, 0,\n",
       "       0, 0, 2, 1, 1, 1, 1, 0, 2, 1, 1, 1, 0, 1, 0, 0, 1, 1, 1, 0, 1, 0,\n",
       "       2, 2, 2, 2, 2, 1, 1, 1, 2, 1, 0, 2, 0, 1, 0, 2, 2, 0, 1, 1, 2, 1,\n",
       "       1, 1, 0, 1, 2, 2, 0, 0, 2, 0, 0, 2, 2, 1, 2, 0, 2, 0, 1, 1, 0, 0,\n",
       "       2, 0, 1, 1, 2, 1, 2, 0, 2, 2, 1, 1, 1, 0, 2, 0, 0, 1, 2, 0, 1, 1,\n",
       "       2, 2, 2, 2, 1, 0, 2, 2, 1, 2, 0, 0, 1, 1, 1, 0, 1, 0, 0, 2, 2, 1,\n",
       "       1, 2, 0, 0, 0, 2, 0, 0, 0, 1, 0, 1, 0, 2, 2, 2, 0, 1, 1, 0, 2, 1,\n",
       "       1, 1, 0, 1, 2, 1, 1, 0, 2, 1, 1, 1, 0, 1, 1, 1, 1, 1, 1, 1, 0, 1,\n",
       "       2, 0, 2, 1, 1, 2, 1, 0, 2, 0, 1, 0, 0, 2, 1, 1, 0, 1, 1, 1, 1, 1,\n",
       "       1, 0, 0, 2, 1, 2, 0, 1, 1, 1, 0, 2, 0, 0, 0, 2, 0, 1, 0, 2, 1, 0,\n",
       "       0, 2, 2, 1, 1, 1, 1, 2, 1, 1, 1, 1, 0, 2, 2, 0, 2, 1, 1, 1, 0, 1,\n",
       "       0, 1, 0, 1, 0, 1, 2, 0, 2, 0, 0, 0, 0, 1, 1, 2, 2, 2, 2, 0, 0, 0,\n",
       "       1, 2, 2, 2, 2, 1, 0, 2, 1, 0, 2, 2, 1, 2, 1, 0, 0, 1, 0, 2, 0, 2,\n",
       "       2, 2, 2, 1, 1, 1, 1, 2, 1, 0, 2, 0, 2, 1, 2, 0, 1, 0, 0, 0, 2, 2,\n",
       "       0, 0, 1, 0, 2, 0, 1, 1, 1, 0, 0, 2, 2, 1, 2, 1, 2, 2, 2, 2, 2, 1,\n",
       "       1, 1, 1, 0, 2, 0, 2, 0, 2, 2, 1, 1, 0, 1, 0, 1, 1, 1, 0, 2, 2, 1,\n",
       "       1, 2, 0, 1, 0, 0, 2, 1, 2, 1, 2, 0, 1, 1, 2, 0, 2, 2, 0, 0, 2, 1,\n",
       "       1, 1, 2, 1, 2, 1, 0, 1, 1, 1, 0, 0, 2, 1, 2, 0, 1, 1, 1, 1, 0, 1,\n",
       "       0, 1, 0, 2, 2, 2, 1, 1, 1, 0, 1, 2, 0, 2, 0, 1, 2, 1, 0, 1, 2, 0,\n",
       "       2, 1, 2, 2, 2, 2, 1, 1, 1, 0, 2, 2, 1, 2, 1, 2, 1, 0, 1, 2, 1, 0,\n",
       "       1, 1, 2, 1])"
      ]
     },
     "execution_count": 9,
     "metadata": {},
     "output_type": "execute_result"
    }
   ],
   "source": [
    "import random\n",
    "test_image_num=len(testing_data)\n",
    "print(len(testing_data))\n",
    "random.shuffle(testing_data)\n",
    "test_labels=np.zeros((test_image_num,1))\n",
    "\n",
    "c=0\n",
    "for sample in testing_data:\n",
    "    test_labels[c]=(sample[1])\n",
    "    c+=1\n",
    "print(c)\n",
    "actual_labels=(test_labels.reshape(test_image_num,))\n",
    "m=actual_labels.astype(int)\n",
    "m"
   ]
  },
  {
   "cell_type": "code",
   "execution_count": 10,
   "metadata": {},
   "outputs": [
    {
     "data": {
      "text/plain": [
       "(64, 64, 3)"
      ]
     },
     "execution_count": 10,
     "metadata": {},
     "output_type": "execute_result"
    }
   ],
   "source": [
    "X = []\n",
    "Y = []\n",
    "\n",
    "for features,label in testing_data:\n",
    "    X.append(features)\n",
    "    Y.append(label)\n",
    "X = np.array(X).reshape(-1, IMG_SIZE, IMG_SIZE, 3)\n",
    "X = X/255.0\n",
    "X.shape[1:]"
   ]
  },
  {
   "cell_type": "code",
   "execution_count": 11,
   "metadata": {},
   "outputs": [
    {
     "name": "stdout",
     "output_type": "stream",
     "text": [
      "\u001b[1m1/1\u001b[0m \u001b[32m━━━━━━━━━━━━━━━━━━━━\u001b[0m\u001b[37m\u001b[0m \u001b[1m1s\u001b[0m 596ms/step\n",
      "Predictions: [[5.8558047e-02 1.4978604e-04 9.4129211e-01]]\n",
      "\u001b[1m1/1\u001b[0m \u001b[32m━━━━━━━━━━━━━━━━━━━━\u001b[0m\u001b[37m\u001b[0m \u001b[1m0s\u001b[0m 75ms/step\n"
     ]
    },
    {
     "data": {
      "text/plain": [
       "2"
      ]
     },
     "execution_count": 11,
     "metadata": {},
     "output_type": "execute_result"
    }
   ],
   "source": [
    "input_image = np.expand_dims(X[6], axis=0)\n",
    "\n",
    "# Make predictions\n",
    "preds = model.predict(input_image)\n",
    "\n",
    "# Process the predictions\n",
    "print(\"Predictions:\", preds)\n",
    "l=np.argmax(model.predict(input_image))\n",
    "l"
   ]
  },
  {
   "cell_type": "code",
   "execution_count": 12,
   "metadata": {},
   "outputs": [
    {
     "name": "stdout",
     "output_type": "stream",
     "text": [
      "\u001b[1m23/23\u001b[0m \u001b[32m━━━━━━━━━━━━━━━━━━━━\u001b[0m\u001b[37m\u001b[0m \u001b[1m1s\u001b[0m 18ms/step\n"
     ]
    },
    {
     "data": {
      "text/plain": [
       "array([0, 0, 2, 2, 0, 2, 2, 0, 0, 1, 1, 2, 2, 2, 2, 0, 1, 0, 0, 0, 1, 0,\n",
       "       1, 1, 0, 1, 0, 0, 1, 2, 2, 1, 2, 1, 0, 0, 0, 2, 1, 0, 0, 1, 0, 1,\n",
       "       1, 0, 1, 2, 2, 1, 1, 0, 0, 1, 1, 0, 1, 1, 1, 2, 0, 1, 1, 0, 1, 2,\n",
       "       0, 0, 0, 0, 0, 0, 0, 2, 2, 1, 0, 0, 1, 1, 2, 2, 1, 2, 0, 0, 1, 1,\n",
       "       2, 2, 0, 2, 0, 1, 1, 1, 2, 1, 1, 0, 1, 1, 2, 1, 0, 1, 2, 2, 2, 2,\n",
       "       2, 1, 2, 1, 0, 0, 1, 2, 2, 2, 1, 2, 1, 0, 2, 0, 2, 1, 2, 0, 0, 1,\n",
       "       1, 2, 1, 0, 2, 0, 2, 1, 2, 2, 2, 1, 1, 2, 0, 1, 2, 0, 0, 1, 2, 2,\n",
       "       2, 0, 1, 1, 0, 1, 0, 1, 0, 0, 0, 0, 0, 0, 2, 1, 0, 0, 1, 2, 1, 2,\n",
       "       1, 0, 2, 0, 1, 0, 1, 0, 2, 1, 2, 1, 0, 0, 0, 1, 1, 0, 0, 0, 2, 1,\n",
       "       2, 0, 0, 2, 0, 0, 1, 1, 0, 0, 2, 2, 0, 1, 1, 1, 0, 1, 1, 1, 1, 2,\n",
       "       2, 0, 1, 2, 2, 2, 2, 1, 2, 1, 0, 2, 2, 1, 2, 1, 0, 0, 2, 0, 2, 0,\n",
       "       0, 1, 0, 1, 2, 0, 0, 1, 2, 0, 2, 2, 0, 2, 0, 0, 1, 0, 2, 2, 2, 0,\n",
       "       1, 2, 2, 2, 2, 1, 2, 2, 0, 0, 2, 1, 2, 0, 0, 0, 2, 0, 2, 2, 0, 2,\n",
       "       1, 2, 2, 1, 1, 0, 1, 0, 2, 1, 1, 2, 0, 0, 0, 2, 1, 1, 1, 1, 0, 0,\n",
       "       0, 0, 2, 2, 2, 1, 1, 1, 2, 1, 0, 2, 0, 1, 0, 2, 2, 0, 1, 1, 2, 2,\n",
       "       2, 1, 2, 2, 0, 2, 0, 0, 0, 2, 0, 2, 2, 1, 1, 2, 2, 1, 2, 2, 2, 2,\n",
       "       2, 0, 1, 1, 2, 1, 2, 0, 2, 0, 1, 1, 1, 0, 2, 0, 2, 1, 2, 0, 1, 1,\n",
       "       0, 2, 2, 0, 0, 0, 2, 0, 1, 2, 2, 2, 1, 2, 1, 2, 1, 2, 1, 2, 2, 1,\n",
       "       0, 1, 0, 0, 2, 2, 0, 0, 2, 1, 0, 1, 0, 2, 1, 0, 0, 1, 1, 0, 0, 1,\n",
       "       1, 1, 1, 1, 2, 1, 1, 0, 2, 1, 1, 1, 0, 1, 2, 1, 1, 1, 1, 0, 1, 1,\n",
       "       2, 1, 2, 1, 1, 2, 1, 0, 2, 2, 2, 1, 2, 2, 1, 1, 0, 1, 1, 0, 1, 1,\n",
       "       2, 0, 2, 2, 1, 2, 0, 2, 1, 1, 2, 2, 0, 0, 0, 0, 0, 2, 0, 0, 1, 0,\n",
       "       0, 2, 2, 1, 2, 0, 2, 2, 1, 1, 2, 1, 0, 2, 2, 1, 0, 1, 1, 1, 2, 2,\n",
       "       0, 1, 0, 1, 0, 1, 2, 0, 0, 1, 0, 0, 0, 2, 0, 2, 0, 2, 0, 0, 0, 2,\n",
       "       1, 2, 0, 2, 2, 1, 2, 0, 1, 0, 0, 2, 1, 2, 1, 0, 2, 1, 2, 0, 0, 2,\n",
       "       2, 2, 2, 0, 2, 1, 1, 2, 1, 0, 0, 0, 2, 1, 0, 0, 0, 2, 1, 0, 2, 2,\n",
       "       0, 0, 1, 0, 2, 0, 1, 1, 2, 0, 1, 2, 2, 2, 2, 1, 0, 2, 2, 2, 0, 2,\n",
       "       1, 1, 1, 0, 2, 1, 0, 0, 0, 0, 1, 1, 0, 1, 2, 1, 0, 1, 0, 2, 1, 1,\n",
       "       1, 2, 0, 1, 0, 2, 2, 2, 0, 1, 0, 0, 1, 1, 0, 0, 0, 2, 0, 0, 0, 1,\n",
       "       1, 1, 1, 1, 2, 1, 0, 0, 1, 1, 0, 0, 2, 1, 0, 0, 1, 1, 2, 0, 0, 1,\n",
       "       2, 1, 0, 2, 2, 2, 1, 1, 1, 0, 1, 0, 0, 1, 1, 1, 2, 1, 2, 2, 2, 0,\n",
       "       2, 0, 2, 2, 2, 2, 2, 1, 0, 2, 2, 2, 0, 1, 1, 2, 1, 1, 1, 2, 1, 0,\n",
       "       1, 1, 2, 1])"
      ]
     },
     "execution_count": 12,
     "metadata": {},
     "output_type": "execute_result"
    }
   ],
   "source": [
    "import numpy as np\n",
    "predicted_labels=np.argmax(model.predict(X), axis=-1)\n",
    "predicted_labels=(predicted_labels.reshape(test_image_num,))\n",
    "l=predicted_labels.astype(int)\n",
    "l"
   ]
  },
  {
   "cell_type": "code",
   "execution_count": 13,
   "metadata": {},
   "outputs": [
    {
     "name": "stdout",
     "output_type": "stream",
     "text": [
      "0.6991525423728814\n"
     ]
    }
   ],
   "source": [
    "from sklearn.metrics import accuracy_score\n",
    "\n",
    "print(accuracy_score(actual_labels,predicted_labels))"
   ]
  },
  {
   "cell_type": "code",
   "execution_count": null,
   "metadata": {},
   "outputs": [],
   "source": []
  }
 ],
 "metadata": {
  "kernelspec": {
   "display_name": "Python 3",
   "language": "python",
   "name": "python3"
  },
  "language_info": {
   "codemirror_mode": {
    "name": "ipython",
    "version": 3
   },
   "file_extension": ".py",
   "mimetype": "text/x-python",
   "name": "python",
   "nbconvert_exporter": "python",
   "pygments_lexer": "ipython3",
   "version": "3.12.5"
  }
 },
 "nbformat": 4,
 "nbformat_minor": 2
}
