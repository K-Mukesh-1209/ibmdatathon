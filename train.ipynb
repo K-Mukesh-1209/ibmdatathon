{
 "cells": [
  {
   "cell_type": "code",
   "execution_count": 6,
   "metadata": {},
   "outputs": [],
   "source": [
    "import os\n",
    "import cv2\n",
    "import numpy as np\n",
    "from tqdm import tqdm\n",
    "# Just for theme\n",
    "import matplotlib as mpl\n",
    "mpl.rcParams['figure.dpi']= 200"
   ]
  },
  {
   "cell_type": "code",
   "execution_count": 2,
   "metadata": {},
   "outputs": [],
   "source": [
    "DATADIR = 'C:\\\\Users\\\\home\\\\Desktop\\\\nirva-agni bscode\\\\Fire Dataset PCD\\\\train' # training path\n",
    "CATEGORIES = ['neutral','fire','smoke']"
   ]
  },
  {
   "cell_type": "code",
   "execution_count": 3,
   "metadata": {},
   "outputs": [],
   "source": [
    "IMG_SIZE = 64\n",
    "def create_training_data():\n",
    "    training_data = []\n",
    "    for category in CATEGORIES:\n",
    "\n",
    "        path = os.path.join(DATADIR,category)\n",
    "        class_num = CATEGORIES.index(category)  # converting corresponding category\n",
    "\n",
    "        for img in tqdm(os.listdir(path)):  # lặp qua từng ảnh một\n",
    "            try:\n",
    "                img_array = cv2.imread(os.path.join(path,img))  # chuyển đổi qua mảng\n",
    "                new_array = cv2.resize(img_array, (IMG_SIZE, IMG_SIZE))  # đặt lại size ảnh\n",
    "                training_data.append([new_array, class_num])  # thêm vào tập training_data\n",
    "            except Exception as e:  # giữ dữ liệu luôn sạch\n",
    "                pass\n",
    "\n",
    "    return training_data"
   ]
  },
  {
   "cell_type": "code",
   "execution_count": 4,
   "metadata": {},
   "outputs": [
    {
     "name": "stderr",
     "output_type": "stream",
     "text": [
      "100%|██████████| 1704/1704 [00:57<00:00, 29.63it/s]\n",
      "100%|██████████| 2061/2061 [01:09<00:00, 29.56it/s]\n",
      "100%|██████████| 1380/1380 [00:24<00:00, 56.40it/s]\n"
     ]
    }
   ],
   "source": [
    "training_data = create_training_data()"
   ]
  },
  {
   "cell_type": "code",
   "execution_count": 5,
   "metadata": {},
   "outputs": [
    {
     "name": "stdout",
     "output_type": "stream",
     "text": [
      "5144\n",
      "1\n",
      "1\n",
      "0\n",
      "2\n",
      "0\n",
      "2\n",
      "0\n",
      "0\n",
      "2\n",
      "0\n"
     ]
    }
   ],
   "source": [
    "import random\n",
    "print(len(training_data))\n",
    "random.shuffle(training_data)\n",
    "for sample in training_data[:10]:\n",
    "    print(sample[1])"
   ]
  },
  {
   "cell_type": "code",
   "execution_count": 6,
   "metadata": {},
   "outputs": [],
   "source": [
    "X = []\n",
    "Y = []\n",
    "\n",
    "for features,label in training_data:\n",
    "    X.append(features)\n",
    "    Y.append(label)\n",
    "\n",
    "X = np.array(X).reshape(-1, IMG_SIZE, IMG_SIZE, 3)\n",
    "X = X/255.0\n",
    "X=np.array(X)\n",
    "Y=np.array(Y)"
   ]
  },
  {
   "cell_type": "code",
   "execution_count": 7,
   "metadata": {},
   "outputs": [],
   "source": [
    "from sklearn.model_selection import train_test_split\n",
    "x_train, x_test, y_train, y_test = train_test_split( X, Y, test_size=0.2, random_state=42,shuffle=True)"
   ]
  },
  {
   "cell_type": "code",
   "execution_count": 8,
   "metadata": {},
   "outputs": [
    {
     "name": "stdout",
     "output_type": "stream",
     "text": [
      "(1029, 64, 64, 3) (4115, 64, 64, 3)\n"
     ]
    }
   ],
   "source": [
    "print(x_test.shape,x_train.shape)"
   ]
  },
  {
   "cell_type": "code",
   "execution_count": 12,
   "metadata": {},
   "outputs": [],
   "source": [
    "import tensorflow as tf\n",
    "from tensorflow.keras.datasets import cifar10\n",
    "from tensorflow.keras.preprocessing.image import ImageDataGenerator,img_to_array\n",
    "from tensorflow.keras.models import Sequential\n",
    "from tensorflow.keras.layers import Dense, Dropout, Activation, Flatten\n",
    "from tensorflow.keras.layers import Conv2D, AveragePooling2D\n",
    "\n",
    "model = Sequential()\n",
    "\n",
    "\n",
    "model.add(Conv2D(filters=16, kernel_size=(3, 3), activation='relu', input_shape=x_train.shape[1:]))\n",
    "model.add(AveragePooling2D(pool_size=(2, 2)))\n",
    "model.add(Dropout(0.5))\n",
    "\n",
    "model.add(Conv2D(filters=32, kernel_size=(3, 3), activation='relu'))\n",
    "model.add(AveragePooling2D(pool_size=(2, 2)))\n",
    "model.add(Dropout(0.5))\n",
    "\n",
    "model.add(Conv2D(filters=64, kernel_size=(3, 3), activation='relu'))\n",
    "model.add(AveragePooling2D(pool_size=(2, 2)))\n",
    "model.add(Dropout(0.5))\n",
    "\n",
    "model.add(Flatten())\n",
    "\n",
    "model.add(Dense(units=256, activation='relu'))\n",
    "model.add(Dropout(0.2))\n",
    "\n",
    "model.add(Dense(units=128, activation='relu'))\n",
    "\n",
    "model.add(Dense(units=3, activation = 'softmax'))\n",
    "\n",
    "model.compile(loss='sparse_categorical_crossentropy',\n",
    "              optimizer='adam',\n",
    "              metrics=['accuracy'])"
   ]
  },
  {
   "cell_type": "code",
   "execution_count": 13,
   "metadata": {},
   "outputs": [
    {
     "name": "stdout",
     "output_type": "stream",
     "text": [
      "Epoch 1/100\n",
      "\u001b[1m65/65\u001b[0m \u001b[32m━━━━━━━━━━━━━━━━━━━━\u001b[0m\u001b[37m\u001b[0m \u001b[1m26s\u001b[0m 151ms/step - accuracy: 0.4873 - loss: 0.9906 - val_accuracy: 0.6035 - val_loss: 0.8564\n",
      "Epoch 2/100\n",
      "\u001b[1m65/65\u001b[0m \u001b[32m━━━━━━━━━━━━━━━━━━━━\u001b[0m\u001b[37m\u001b[0m \u001b[1m8s\u001b[0m 120ms/step - accuracy: 0.6106 - loss: 0.8535 - val_accuracy: 0.6774 - val_loss: 0.7697\n",
      "Epoch 3/100\n",
      "\u001b[1m65/65\u001b[0m \u001b[32m━━━━━━━━━━━━━━━━━━━━\u001b[0m\u001b[37m\u001b[0m \u001b[1m8s\u001b[0m 116ms/step - accuracy: 0.6714 - loss: 0.7593 - val_accuracy: 0.7221 - val_loss: 0.6608\n",
      "Epoch 4/100\n",
      "\u001b[1m65/65\u001b[0m \u001b[32m━━━━━━━━━━━━━━━━━━━━\u001b[0m\u001b[37m\u001b[0m \u001b[1m8s\u001b[0m 117ms/step - accuracy: 0.7043 - loss: 0.6991 - val_accuracy: 0.7425 - val_loss: 0.6210\n",
      "Epoch 5/100\n",
      "\u001b[1m65/65\u001b[0m \u001b[32m━━━━━━━━━━━━━━━━━━━━\u001b[0m\u001b[37m\u001b[0m \u001b[1m8s\u001b[0m 116ms/step - accuracy: 0.7165 - loss: 0.6552 - val_accuracy: 0.7648 - val_loss: 0.5769\n",
      "Epoch 6/100\n",
      "\u001b[1m65/65\u001b[0m \u001b[32m━━━━━━━━━━━━━━━━━━━━\u001b[0m\u001b[37m\u001b[0m \u001b[1m8s\u001b[0m 117ms/step - accuracy: 0.7451 - loss: 0.6003 - val_accuracy: 0.7794 - val_loss: 0.5536\n",
      "Epoch 7/100\n",
      "\u001b[1m65/65\u001b[0m \u001b[32m━━━━━━━━━━━━━━━━━━━━\u001b[0m\u001b[37m\u001b[0m \u001b[1m8s\u001b[0m 116ms/step - accuracy: 0.7641 - loss: 0.5864 - val_accuracy: 0.7804 - val_loss: 0.5310\n",
      "Epoch 8/100\n",
      "\u001b[1m65/65\u001b[0m \u001b[32m━━━━━━━━━━━━━━━━━━━━\u001b[0m\u001b[37m\u001b[0m \u001b[1m8s\u001b[0m 119ms/step - accuracy: 0.7871 - loss: 0.5274 - val_accuracy: 0.7949 - val_loss: 0.4907\n",
      "Epoch 9/100\n",
      "\u001b[1m65/65\u001b[0m \u001b[32m━━━━━━━━━━━━━━━━━━━━\u001b[0m\u001b[37m\u001b[0m \u001b[1m11s\u001b[0m 133ms/step - accuracy: 0.7887 - loss: 0.5214 - val_accuracy: 0.8173 - val_loss: 0.4622\n",
      "Epoch 10/100\n",
      "\u001b[1m65/65\u001b[0m \u001b[32m━━━━━━━━━━━━━━━━━━━━\u001b[0m\u001b[37m\u001b[0m \u001b[1m8s\u001b[0m 118ms/step - accuracy: 0.7933 - loss: 0.4793 - val_accuracy: 0.8076 - val_loss: 0.4782\n",
      "Epoch 11/100\n",
      "\u001b[1m65/65\u001b[0m \u001b[32m━━━━━━━━━━━━━━━━━━━━\u001b[0m\u001b[37m\u001b[0m \u001b[1m8s\u001b[0m 118ms/step - accuracy: 0.8063 - loss: 0.4692 - val_accuracy: 0.8202 - val_loss: 0.4349\n",
      "Epoch 12/100\n",
      "\u001b[1m65/65\u001b[0m \u001b[32m━━━━━━━━━━━━━━━━━━━━\u001b[0m\u001b[37m\u001b[0m \u001b[1m8s\u001b[0m 117ms/step - accuracy: 0.8151 - loss: 0.4474 - val_accuracy: 0.8173 - val_loss: 0.4476\n",
      "Epoch 13/100\n",
      "\u001b[1m65/65\u001b[0m \u001b[32m━━━━━━━━━━━━━━━━━━━━\u001b[0m\u001b[37m\u001b[0m \u001b[1m8s\u001b[0m 120ms/step - accuracy: 0.8134 - loss: 0.4520 - val_accuracy: 0.8047 - val_loss: 0.4699\n",
      "Epoch 14/100\n",
      "\u001b[1m65/65\u001b[0m \u001b[32m━━━━━━━━━━━━━━━━━━━━\u001b[0m\u001b[37m\u001b[0m \u001b[1m8s\u001b[0m 118ms/step - accuracy: 0.8264 - loss: 0.4196 - val_accuracy: 0.8270 - val_loss: 0.4240\n",
      "Epoch 15/100\n",
      "\u001b[1m65/65\u001b[0m \u001b[32m━━━━━━━━━━━━━━━━━━━━\u001b[0m\u001b[37m\u001b[0m \u001b[1m8s\u001b[0m 118ms/step - accuracy: 0.8217 - loss: 0.4293 - val_accuracy: 0.8144 - val_loss: 0.4383\n",
      "Epoch 16/100\n",
      "\u001b[1m65/65\u001b[0m \u001b[32m━━━━━━━━━━━━━━━━━━━━\u001b[0m\u001b[37m\u001b[0m \u001b[1m8s\u001b[0m 119ms/step - accuracy: 0.8226 - loss: 0.4372 - val_accuracy: 0.8270 - val_loss: 0.4085\n",
      "Epoch 17/100\n",
      "\u001b[1m65/65\u001b[0m \u001b[32m━━━━━━━━━━━━━━━━━━━━\u001b[0m\u001b[37m\u001b[0m \u001b[1m8s\u001b[0m 122ms/step - accuracy: 0.8265 - loss: 0.4033 - val_accuracy: 0.8338 - val_loss: 0.4005\n",
      "Epoch 18/100\n",
      "\u001b[1m65/65\u001b[0m \u001b[32m━━━━━━━━━━━━━━━━━━━━\u001b[0m\u001b[37m\u001b[0m \u001b[1m7s\u001b[0m 113ms/step - accuracy: 0.8422 - loss: 0.3659 - val_accuracy: 0.8299 - val_loss: 0.4015\n",
      "Epoch 19/100\n",
      "\u001b[1m65/65\u001b[0m \u001b[32m━━━━━━━━━━━━━━━━━━━━\u001b[0m\u001b[37m\u001b[0m \u001b[1m8s\u001b[0m 119ms/step - accuracy: 0.8465 - loss: 0.3609 - val_accuracy: 0.8387 - val_loss: 0.4136\n",
      "Epoch 20/100\n",
      "\u001b[1m65/65\u001b[0m \u001b[32m━━━━━━━━━━━━━━━━━━━━\u001b[0m\u001b[37m\u001b[0m \u001b[1m8s\u001b[0m 120ms/step - accuracy: 0.8424 - loss: 0.3612 - val_accuracy: 0.8416 - val_loss: 0.3901\n",
      "Epoch 21/100\n",
      "\u001b[1m65/65\u001b[0m \u001b[32m━━━━━━━━━━━━━━━━━━━━\u001b[0m\u001b[37m\u001b[0m \u001b[1m8s\u001b[0m 120ms/step - accuracy: 0.8418 - loss: 0.3488 - val_accuracy: 0.8270 - val_loss: 0.4083\n",
      "Epoch 22/100\n",
      "\u001b[1m65/65\u001b[0m \u001b[32m━━━━━━━━━━━━━━━━━━━━\u001b[0m\u001b[37m\u001b[0m \u001b[1m8s\u001b[0m 120ms/step - accuracy: 0.8703 - loss: 0.3166 - val_accuracy: 0.8299 - val_loss: 0.3962\n",
      "Epoch 23/100\n",
      "\u001b[1m65/65\u001b[0m \u001b[32m━━━━━━━━━━━━━━━━━━━━\u001b[0m\u001b[37m\u001b[0m \u001b[1m8s\u001b[0m 117ms/step - accuracy: 0.8619 - loss: 0.3390 - val_accuracy: 0.8416 - val_loss: 0.4018\n",
      "Epoch 24/100\n",
      "\u001b[1m65/65\u001b[0m \u001b[32m━━━━━━━━━━━━━━━━━━━━\u001b[0m\u001b[37m\u001b[0m \u001b[1m8s\u001b[0m 116ms/step - accuracy: 0.8624 - loss: 0.3143 - val_accuracy: 0.8202 - val_loss: 0.4457\n",
      "Epoch 25/100\n",
      "\u001b[1m65/65\u001b[0m \u001b[32m━━━━━━━━━━━━━━━━━━━━\u001b[0m\u001b[37m\u001b[0m \u001b[1m8s\u001b[0m 115ms/step - accuracy: 0.8621 - loss: 0.3177 - val_accuracy: 0.8299 - val_loss: 0.3995\n",
      "Epoch 26/100\n",
      "\u001b[1m65/65\u001b[0m \u001b[32m━━━━━━━━━━━━━━━━━━━━\u001b[0m\u001b[37m\u001b[0m \u001b[1m8s\u001b[0m 118ms/step - accuracy: 0.8686 - loss: 0.2941 - val_accuracy: 0.8212 - val_loss: 0.4244\n",
      "Epoch 27/100\n",
      "\u001b[1m65/65\u001b[0m \u001b[32m━━━━━━━━━━━━━━━━━━━━\u001b[0m\u001b[37m\u001b[0m \u001b[1m8s\u001b[0m 115ms/step - accuracy: 0.8755 - loss: 0.2783 - val_accuracy: 0.8290 - val_loss: 0.4148\n",
      "Epoch 28/100\n",
      "\u001b[1m65/65\u001b[0m \u001b[32m━━━━━━━━━━━━━━━━━━━━\u001b[0m\u001b[37m\u001b[0m \u001b[1m7s\u001b[0m 113ms/step - accuracy: 0.8821 - loss: 0.2912 - val_accuracy: 0.8338 - val_loss: 0.4203\n",
      "Epoch 29/100\n",
      "\u001b[1m65/65\u001b[0m \u001b[32m━━━━━━━━━━━━━━━━━━━━\u001b[0m\u001b[37m\u001b[0m \u001b[1m7s\u001b[0m 112ms/step - accuracy: 0.8738 - loss: 0.2792 - val_accuracy: 0.8299 - val_loss: 0.4624\n",
      "Epoch 30/100\n",
      "\u001b[1m65/65\u001b[0m \u001b[32m━━━━━━━━━━━━━━━━━━━━\u001b[0m\u001b[37m\u001b[0m \u001b[1m7s\u001b[0m 113ms/step - accuracy: 0.8800 - loss: 0.2616 - val_accuracy: 0.8280 - val_loss: 0.4590\n",
      "Epoch 31/100\n",
      "\u001b[1m65/65\u001b[0m \u001b[32m━━━━━━━━━━━━━━━━━━━━\u001b[0m\u001b[37m\u001b[0m \u001b[1m8s\u001b[0m 115ms/step - accuracy: 0.8922 - loss: 0.2357 - val_accuracy: 0.8299 - val_loss: 0.4666\n",
      "Epoch 32/100\n",
      "\u001b[1m65/65\u001b[0m \u001b[32m━━━━━━━━━━━━━━━━━━━━\u001b[0m\u001b[37m\u001b[0m \u001b[1m8s\u001b[0m 118ms/step - accuracy: 0.8880 - loss: 0.2685 - val_accuracy: 0.8348 - val_loss: 0.4084\n",
      "Epoch 33/100\n",
      "\u001b[1m65/65\u001b[0m \u001b[32m━━━━━━━━━━━━━━━━━━━━\u001b[0m\u001b[37m\u001b[0m \u001b[1m8s\u001b[0m 122ms/step - accuracy: 0.8850 - loss: 0.2455 - val_accuracy: 0.8280 - val_loss: 0.4687\n",
      "Epoch 34/100\n",
      "\u001b[1m65/65\u001b[0m \u001b[32m━━━━━━━━━━━━━━━━━━━━\u001b[0m\u001b[37m\u001b[0m \u001b[1m8s\u001b[0m 118ms/step - accuracy: 0.8813 - loss: 0.2657 - val_accuracy: 0.8416 - val_loss: 0.4302\n",
      "Epoch 35/100\n",
      "\u001b[1m65/65\u001b[0m \u001b[32m━━━━━━━━━━━━━━━━━━━━\u001b[0m\u001b[37m\u001b[0m \u001b[1m8s\u001b[0m 118ms/step - accuracy: 0.8929 - loss: 0.2425 - val_accuracy: 0.8348 - val_loss: 0.4492\n",
      "Epoch 36/100\n",
      "\u001b[1m65/65\u001b[0m \u001b[32m━━━━━━━━━━━━━━━━━━━━\u001b[0m\u001b[37m\u001b[0m \u001b[1m8s\u001b[0m 119ms/step - accuracy: 0.9030 - loss: 0.2184 - val_accuracy: 0.8309 - val_loss: 0.4426\n",
      "Epoch 37/100\n",
      "\u001b[1m65/65\u001b[0m \u001b[32m━━━━━━━━━━━━━━━━━━━━\u001b[0m\u001b[37m\u001b[0m \u001b[1m8s\u001b[0m 118ms/step - accuracy: 0.9052 - loss: 0.2136 - val_accuracy: 0.8397 - val_loss: 0.4898\n",
      "Epoch 38/100\n",
      "\u001b[1m65/65\u001b[0m \u001b[32m━━━━━━━━━━━━━━━━━━━━\u001b[0m\u001b[37m\u001b[0m \u001b[1m8s\u001b[0m 118ms/step - accuracy: 0.8960 - loss: 0.2386 - val_accuracy: 0.8445 - val_loss: 0.4423\n",
      "Epoch 39/100\n",
      "\u001b[1m65/65\u001b[0m \u001b[32m━━━━━━━━━━━━━━━━━━━━\u001b[0m\u001b[37m\u001b[0m \u001b[1m8s\u001b[0m 118ms/step - accuracy: 0.8965 - loss: 0.2070 - val_accuracy: 0.8397 - val_loss: 0.4928\n",
      "Epoch 40/100\n",
      "\u001b[1m65/65\u001b[0m \u001b[32m━━━━━━━━━━━━━━━━━━━━\u001b[0m\u001b[37m\u001b[0m \u001b[1m8s\u001b[0m 122ms/step - accuracy: 0.9012 - loss: 0.2292 - val_accuracy: 0.8290 - val_loss: 0.4548\n",
      "Epoch 41/100\n",
      "\u001b[1m65/65\u001b[0m \u001b[32m━━━━━━━━━━━━━━━━━━━━\u001b[0m\u001b[37m\u001b[0m \u001b[1m8s\u001b[0m 123ms/step - accuracy: 0.9097 - loss: 0.2011 - val_accuracy: 0.8231 - val_loss: 0.4759\n",
      "Epoch 42/100\n",
      "\u001b[1m65/65\u001b[0m \u001b[32m━━━━━━━━━━━━━━━━━━━━\u001b[0m\u001b[37m\u001b[0m \u001b[1m8s\u001b[0m 119ms/step - accuracy: 0.9090 - loss: 0.2008 - val_accuracy: 0.8406 - val_loss: 0.4953\n",
      "Epoch 43/100\n",
      "\u001b[1m65/65\u001b[0m \u001b[32m━━━━━━━━━━━━━━━━━━━━\u001b[0m\u001b[37m\u001b[0m \u001b[1m8s\u001b[0m 119ms/step - accuracy: 0.9155 - loss: 0.1889 - val_accuracy: 0.8348 - val_loss: 0.4640\n",
      "Epoch 44/100\n",
      "\u001b[1m65/65\u001b[0m \u001b[32m━━━━━━━━━━━━━━━━━━━━\u001b[0m\u001b[37m\u001b[0m \u001b[1m11s\u001b[0m 125ms/step - accuracy: 0.9131 - loss: 0.2088 - val_accuracy: 0.8319 - val_loss: 0.4847\n",
      "Epoch 45/100\n",
      "\u001b[1m65/65\u001b[0m \u001b[32m━━━━━━━━━━━━━━━━━━━━\u001b[0m\u001b[37m\u001b[0m \u001b[1m8s\u001b[0m 122ms/step - accuracy: 0.9069 - loss: 0.2092 - val_accuracy: 0.8397 - val_loss: 0.5159\n",
      "Epoch 46/100\n",
      "\u001b[1m65/65\u001b[0m \u001b[32m━━━━━━━━━━━━━━━━━━━━\u001b[0m\u001b[37m\u001b[0m \u001b[1m8s\u001b[0m 120ms/step - accuracy: 0.9245 - loss: 0.1699 - val_accuracy: 0.8338 - val_loss: 0.4954\n",
      "Epoch 47/100\n",
      "\u001b[1m65/65\u001b[0m \u001b[32m━━━━━━━━━━━━━━━━━━━━\u001b[0m\u001b[37m\u001b[0m \u001b[1m8s\u001b[0m 120ms/step - accuracy: 0.9094 - loss: 0.1892 - val_accuracy: 0.8115 - val_loss: 0.5231\n",
      "Epoch 48/100\n",
      "\u001b[1m65/65\u001b[0m \u001b[32m━━━━━━━━━━━━━━━━━━━━\u001b[0m\u001b[37m\u001b[0m \u001b[1m8s\u001b[0m 118ms/step - accuracy: 0.9102 - loss: 0.1831 - val_accuracy: 0.8222 - val_loss: 0.5082\n",
      "Epoch 49/100\n",
      "\u001b[1m65/65\u001b[0m \u001b[32m━━━━━━━━━━━━━━━━━━━━\u001b[0m\u001b[37m\u001b[0m \u001b[1m8s\u001b[0m 118ms/step - accuracy: 0.9245 - loss: 0.1595 - val_accuracy: 0.8299 - val_loss: 0.5220\n",
      "Epoch 50/100\n",
      "\u001b[1m65/65\u001b[0m \u001b[32m━━━━━━━━━━━━━━━━━━━━\u001b[0m\u001b[37m\u001b[0m \u001b[1m8s\u001b[0m 119ms/step - accuracy: 0.9167 - loss: 0.1771 - val_accuracy: 0.8270 - val_loss: 0.5281\n",
      "Epoch 51/100\n",
      "\u001b[1m65/65\u001b[0m \u001b[32m━━━━━━━━━━━━━━━━━━━━\u001b[0m\u001b[37m\u001b[0m \u001b[1m8s\u001b[0m 118ms/step - accuracy: 0.9140 - loss: 0.1837 - val_accuracy: 0.8290 - val_loss: 0.5158\n",
      "Epoch 52/100\n",
      "\u001b[1m65/65\u001b[0m \u001b[32m━━━━━━━━━━━━━━━━━━━━\u001b[0m\u001b[37m\u001b[0m \u001b[1m8s\u001b[0m 116ms/step - accuracy: 0.9126 - loss: 0.1947 - val_accuracy: 0.8309 - val_loss: 0.5237\n",
      "Epoch 53/100\n",
      "\u001b[1m65/65\u001b[0m \u001b[32m━━━━━━━━━━━━━━━━━━━━\u001b[0m\u001b[37m\u001b[0m \u001b[1m8s\u001b[0m 119ms/step - accuracy: 0.9198 - loss: 0.1682 - val_accuracy: 0.8241 - val_loss: 0.5303\n",
      "Epoch 54/100\n",
      "\u001b[1m65/65\u001b[0m \u001b[32m━━━━━━━━━━━━━━━━━━━━\u001b[0m\u001b[37m\u001b[0m \u001b[1m8s\u001b[0m 118ms/step - accuracy: 0.9205 - loss: 0.1795 - val_accuracy: 0.8290 - val_loss: 0.5403\n",
      "Epoch 55/100\n",
      "\u001b[1m65/65\u001b[0m \u001b[32m━━━━━━━━━━━━━━━━━━━━\u001b[0m\u001b[37m\u001b[0m \u001b[1m8s\u001b[0m 119ms/step - accuracy: 0.9189 - loss: 0.1674 - val_accuracy: 0.8319 - val_loss: 0.5397\n",
      "Epoch 56/100\n",
      "\u001b[1m65/65\u001b[0m \u001b[32m━━━━━━━━━━━━━━━━━━━━\u001b[0m\u001b[37m\u001b[0m \u001b[1m8s\u001b[0m 118ms/step - accuracy: 0.9224 - loss: 0.1601 - val_accuracy: 0.8260 - val_loss: 0.5577\n",
      "Epoch 57/100\n",
      "\u001b[1m65/65\u001b[0m \u001b[32m━━━━━━━━━━━━━━━━━━━━\u001b[0m\u001b[37m\u001b[0m \u001b[1m8s\u001b[0m 126ms/step - accuracy: 0.9339 - loss: 0.1460 - val_accuracy: 0.8241 - val_loss: 0.5499\n",
      "Epoch 58/100\n",
      "\u001b[1m65/65\u001b[0m \u001b[32m━━━━━━━━━━━━━━━━━━━━\u001b[0m\u001b[37m\u001b[0m \u001b[1m8s\u001b[0m 118ms/step - accuracy: 0.9189 - loss: 0.1709 - val_accuracy: 0.8290 - val_loss: 0.5789\n",
      "Epoch 59/100\n",
      "\u001b[1m65/65\u001b[0m \u001b[32m━━━━━━━━━━━━━━━━━━━━\u001b[0m\u001b[37m\u001b[0m \u001b[1m8s\u001b[0m 117ms/step - accuracy: 0.9242 - loss: 0.1489 - val_accuracy: 0.8309 - val_loss: 0.5483\n",
      "Epoch 60/100\n",
      "\u001b[1m65/65\u001b[0m \u001b[32m━━━━━━━━━━━━━━━━━━━━\u001b[0m\u001b[37m\u001b[0m \u001b[1m8s\u001b[0m 118ms/step - accuracy: 0.9297 - loss: 0.1516 - val_accuracy: 0.8231 - val_loss: 0.5757\n",
      "Epoch 61/100\n",
      "\u001b[1m65/65\u001b[0m \u001b[32m━━━━━━━━━━━━━━━━━━━━\u001b[0m\u001b[37m\u001b[0m \u001b[1m8s\u001b[0m 116ms/step - accuracy: 0.9260 - loss: 0.1551 - val_accuracy: 0.8212 - val_loss: 0.5158\n",
      "Epoch 62/100\n",
      "\u001b[1m65/65\u001b[0m \u001b[32m━━━━━━━━━━━━━━━━━━━━\u001b[0m\u001b[37m\u001b[0m \u001b[1m8s\u001b[0m 119ms/step - accuracy: 0.9371 - loss: 0.1332 - val_accuracy: 0.8280 - val_loss: 0.5518\n",
      "Epoch 63/100\n",
      "\u001b[1m65/65\u001b[0m \u001b[32m━━━━━━━━━━━━━━━━━━━━\u001b[0m\u001b[37m\u001b[0m \u001b[1m8s\u001b[0m 117ms/step - accuracy: 0.9358 - loss: 0.1347 - val_accuracy: 0.8241 - val_loss: 0.5366\n",
      "Epoch 64/100\n",
      "\u001b[1m65/65\u001b[0m \u001b[32m━━━━━━━━━━━━━━━━━━━━\u001b[0m\u001b[37m\u001b[0m \u001b[1m8s\u001b[0m 118ms/step - accuracy: 0.9323 - loss: 0.1470 - val_accuracy: 0.8309 - val_loss: 0.5684\n",
      "Epoch 65/100\n",
      "\u001b[1m65/65\u001b[0m \u001b[32m━━━━━━━━━━━━━━━━━━━━\u001b[0m\u001b[37m\u001b[0m \u001b[1m8s\u001b[0m 118ms/step - accuracy: 0.9291 - loss: 0.1358 - val_accuracy: 0.8163 - val_loss: 0.5387\n",
      "Epoch 66/100\n",
      "\u001b[1m65/65\u001b[0m \u001b[32m━━━━━━━━━━━━━━━━━━━━\u001b[0m\u001b[37m\u001b[0m \u001b[1m8s\u001b[0m 120ms/step - accuracy: 0.9262 - loss: 0.1516 - val_accuracy: 0.8260 - val_loss: 0.5830\n",
      "Epoch 67/100\n",
      "\u001b[1m65/65\u001b[0m \u001b[32m━━━━━━━━━━━━━━━━━━━━\u001b[0m\u001b[37m\u001b[0m \u001b[1m8s\u001b[0m 118ms/step - accuracy: 0.9286 - loss: 0.1397 - val_accuracy: 0.8192 - val_loss: 0.5667\n",
      "Epoch 68/100\n",
      "\u001b[1m65/65\u001b[0m \u001b[32m━━━━━━━━━━━━━━━━━━━━\u001b[0m\u001b[37m\u001b[0m \u001b[1m7s\u001b[0m 113ms/step - accuracy: 0.9224 - loss: 0.1563 - val_accuracy: 0.8212 - val_loss: 0.5769\n",
      "Epoch 69/100\n",
      "\u001b[1m65/65\u001b[0m \u001b[32m━━━━━━━━━━━━━━━━━━━━\u001b[0m\u001b[37m\u001b[0m \u001b[1m8s\u001b[0m 119ms/step - accuracy: 0.9225 - loss: 0.1496 - val_accuracy: 0.8319 - val_loss: 0.5770\n",
      "Epoch 70/100\n",
      "\u001b[1m65/65\u001b[0m \u001b[32m━━━━━━━━━━━━━━━━━━━━\u001b[0m\u001b[37m\u001b[0m \u001b[1m8s\u001b[0m 117ms/step - accuracy: 0.9214 - loss: 0.1653 - val_accuracy: 0.8202 - val_loss: 0.5968\n",
      "Epoch 71/100\n",
      "\u001b[1m65/65\u001b[0m \u001b[32m━━━━━━━━━━━━━━━━━━━━\u001b[0m\u001b[37m\u001b[0m \u001b[1m8s\u001b[0m 118ms/step - accuracy: 0.9267 - loss: 0.1528 - val_accuracy: 0.8280 - val_loss: 0.5453\n",
      "Epoch 72/100\n",
      "\u001b[1m65/65\u001b[0m \u001b[32m━━━━━━━━━━━━━━━━━━━━\u001b[0m\u001b[37m\u001b[0m \u001b[1m8s\u001b[0m 116ms/step - accuracy: 0.9381 - loss: 0.1256 - val_accuracy: 0.8222 - val_loss: 0.5703\n",
      "Epoch 73/100\n",
      "\u001b[1m65/65\u001b[0m \u001b[32m━━━━━━━━━━━━━━━━━━━━\u001b[0m\u001b[37m\u001b[0m \u001b[1m8s\u001b[0m 119ms/step - accuracy: 0.9268 - loss: 0.1469 - val_accuracy: 0.8231 - val_loss: 0.5698\n",
      "Epoch 74/100\n",
      "\u001b[1m65/65\u001b[0m \u001b[32m━━━━━━━━━━━━━━━━━━━━\u001b[0m\u001b[37m\u001b[0m \u001b[1m8s\u001b[0m 117ms/step - accuracy: 0.9292 - loss: 0.1372 - val_accuracy: 0.8260 - val_loss: 0.6012\n",
      "Epoch 75/100\n",
      "\u001b[1m65/65\u001b[0m \u001b[32m━━━━━━━━━━━━━━━━━━━━\u001b[0m\u001b[37m\u001b[0m \u001b[1m8s\u001b[0m 118ms/step - accuracy: 0.9371 - loss: 0.1328 - val_accuracy: 0.8290 - val_loss: 0.5811\n",
      "Epoch 76/100\n",
      "\u001b[1m65/65\u001b[0m \u001b[32m━━━━━━━━━━━━━━━━━━━━\u001b[0m\u001b[37m\u001b[0m \u001b[1m8s\u001b[0m 117ms/step - accuracy: 0.9234 - loss: 0.1480 - val_accuracy: 0.8270 - val_loss: 0.5698\n",
      "Epoch 77/100\n",
      "\u001b[1m65/65\u001b[0m \u001b[32m━━━━━━━━━━━━━━━━━━━━\u001b[0m\u001b[37m\u001b[0m \u001b[1m8s\u001b[0m 117ms/step - accuracy: 0.9281 - loss: 0.1440 - val_accuracy: 0.8154 - val_loss: 0.6349\n",
      "Epoch 78/100\n",
      "\u001b[1m65/65\u001b[0m \u001b[32m━━━━━━━━━━━━━━━━━━━━\u001b[0m\u001b[37m\u001b[0m \u001b[1m8s\u001b[0m 117ms/step - accuracy: 0.9357 - loss: 0.1244 - val_accuracy: 0.8328 - val_loss: 0.5975\n",
      "Epoch 79/100\n",
      "\u001b[1m65/65\u001b[0m \u001b[32m━━━━━━━━━━━━━━━━━━━━\u001b[0m\u001b[37m\u001b[0m \u001b[1m8s\u001b[0m 118ms/step - accuracy: 0.9330 - loss: 0.1406 - val_accuracy: 0.8309 - val_loss: 0.5535\n",
      "Epoch 80/100\n",
      "\u001b[1m65/65\u001b[0m \u001b[32m━━━━━━━━━━━━━━━━━━━━\u001b[0m\u001b[37m\u001b[0m \u001b[1m8s\u001b[0m 118ms/step - accuracy: 0.9350 - loss: 0.1262 - val_accuracy: 0.8319 - val_loss: 0.6059\n",
      "Epoch 81/100\n",
      "\u001b[1m65/65\u001b[0m \u001b[32m━━━━━━━━━━━━━━━━━━━━\u001b[0m\u001b[37m\u001b[0m \u001b[1m8s\u001b[0m 119ms/step - accuracy: 0.9330 - loss: 0.1349 - val_accuracy: 0.8251 - val_loss: 0.5736\n",
      "Epoch 82/100\n",
      "\u001b[1m65/65\u001b[0m \u001b[32m━━━━━━━━━━━━━━━━━━━━\u001b[0m\u001b[37m\u001b[0m \u001b[1m8s\u001b[0m 118ms/step - accuracy: 0.9385 - loss: 0.1235 - val_accuracy: 0.8299 - val_loss: 0.6257\n",
      "Epoch 83/100\n",
      "\u001b[1m65/65\u001b[0m \u001b[32m━━━━━━━━━━━━━━━━━━━━\u001b[0m\u001b[37m\u001b[0m \u001b[1m8s\u001b[0m 119ms/step - accuracy: 0.9385 - loss: 0.1310 - val_accuracy: 0.8328 - val_loss: 0.6066\n",
      "Epoch 84/100\n",
      "\u001b[1m65/65\u001b[0m \u001b[32m━━━━━━━━━━━━━━━━━━━━\u001b[0m\u001b[37m\u001b[0m \u001b[1m8s\u001b[0m 119ms/step - accuracy: 0.9377 - loss: 0.1309 - val_accuracy: 0.8260 - val_loss: 0.6398\n",
      "Epoch 85/100\n",
      "\u001b[1m65/65\u001b[0m \u001b[32m━━━━━━━━━━━━━━━━━━━━\u001b[0m\u001b[37m\u001b[0m \u001b[1m8s\u001b[0m 121ms/step - accuracy: 0.9289 - loss: 0.1448 - val_accuracy: 0.8280 - val_loss: 0.6018\n",
      "Epoch 86/100\n",
      "\u001b[1m65/65\u001b[0m \u001b[32m━━━━━━━━━━━━━━━━━━━━\u001b[0m\u001b[37m\u001b[0m \u001b[1m8s\u001b[0m 118ms/step - accuracy: 0.9406 - loss: 0.1142 - val_accuracy: 0.8338 - val_loss: 0.5831\n",
      "Epoch 87/100\n",
      "\u001b[1m65/65\u001b[0m \u001b[32m━━━━━━━━━━━━━━━━━━━━\u001b[0m\u001b[37m\u001b[0m \u001b[1m8s\u001b[0m 118ms/step - accuracy: 0.9361 - loss: 0.1378 - val_accuracy: 0.8377 - val_loss: 0.5810\n",
      "Epoch 88/100\n",
      "\u001b[1m65/65\u001b[0m \u001b[32m━━━━━━━━━━━━━━━━━━━━\u001b[0m\u001b[37m\u001b[0m \u001b[1m8s\u001b[0m 116ms/step - accuracy: 0.9388 - loss: 0.1251 - val_accuracy: 0.8222 - val_loss: 0.5892\n",
      "Epoch 89/100\n",
      "\u001b[1m65/65\u001b[0m \u001b[32m━━━━━━━━━━━━━━━━━━━━\u001b[0m\u001b[37m\u001b[0m \u001b[1m8s\u001b[0m 120ms/step - accuracy: 0.9317 - loss: 0.1302 - val_accuracy: 0.8241 - val_loss: 0.6429\n",
      "Epoch 90/100\n",
      "\u001b[1m65/65\u001b[0m \u001b[32m━━━━━━━━━━━━━━━━━━━━\u001b[0m\u001b[37m\u001b[0m \u001b[1m8s\u001b[0m 118ms/step - accuracy: 0.9469 - loss: 0.1161 - val_accuracy: 0.8241 - val_loss: 0.6417\n",
      "Epoch 91/100\n",
      "\u001b[1m65/65\u001b[0m \u001b[32m━━━━━━━━━━━━━━━━━━━━\u001b[0m\u001b[37m\u001b[0m \u001b[1m8s\u001b[0m 119ms/step - accuracy: 0.9338 - loss: 0.1237 - val_accuracy: 0.8270 - val_loss: 0.6024\n",
      "Epoch 92/100\n",
      "\u001b[1m65/65\u001b[0m \u001b[32m━━━━━━━━━━━━━━━━━━━━\u001b[0m\u001b[37m\u001b[0m \u001b[1m8s\u001b[0m 118ms/step - accuracy: 0.9353 - loss: 0.1262 - val_accuracy: 0.8328 - val_loss: 0.5920\n",
      "Epoch 93/100\n",
      "\u001b[1m65/65\u001b[0m \u001b[32m━━━━━━━━━━━━━━━━━━━━\u001b[0m\u001b[37m\u001b[0m \u001b[1m8s\u001b[0m 118ms/step - accuracy: 0.9286 - loss: 0.1517 - val_accuracy: 0.8222 - val_loss: 0.5976\n",
      "Epoch 94/100\n",
      "\u001b[1m65/65\u001b[0m \u001b[32m━━━━━━━━━━━━━━━━━━━━\u001b[0m\u001b[37m\u001b[0m \u001b[1m8s\u001b[0m 119ms/step - accuracy: 0.9372 - loss: 0.1263 - val_accuracy: 0.8076 - val_loss: 0.7232\n",
      "Epoch 95/100\n",
      "\u001b[1m65/65\u001b[0m \u001b[32m━━━━━━━━━━━━━━━━━━━━\u001b[0m\u001b[37m\u001b[0m \u001b[1m8s\u001b[0m 118ms/step - accuracy: 0.9342 - loss: 0.1383 - val_accuracy: 0.8241 - val_loss: 0.6250\n",
      "Epoch 96/100\n",
      "\u001b[1m65/65\u001b[0m \u001b[32m━━━━━━━━━━━━━━━━━━━━\u001b[0m\u001b[37m\u001b[0m \u001b[1m8s\u001b[0m 118ms/step - accuracy: 0.9367 - loss: 0.1255 - val_accuracy: 0.8260 - val_loss: 0.6366\n",
      "Epoch 97/100\n",
      "\u001b[1m65/65\u001b[0m \u001b[32m━━━━━━━━━━━━━━━━━━━━\u001b[0m\u001b[37m\u001b[0m \u001b[1m8s\u001b[0m 117ms/step - accuracy: 0.9422 - loss: 0.1060 - val_accuracy: 0.8202 - val_loss: 0.6373\n",
      "Epoch 98/100\n",
      "\u001b[1m65/65\u001b[0m \u001b[32m━━━━━━━━━━━━━━━━━━━━\u001b[0m\u001b[37m\u001b[0m \u001b[1m8s\u001b[0m 118ms/step - accuracy: 0.9399 - loss: 0.1149 - val_accuracy: 0.8299 - val_loss: 0.6741\n",
      "Epoch 99/100\n",
      "\u001b[1m65/65\u001b[0m \u001b[32m━━━━━━━━━━━━━━━━━━━━\u001b[0m\u001b[37m\u001b[0m \u001b[1m8s\u001b[0m 118ms/step - accuracy: 0.9394 - loss: 0.1169 - val_accuracy: 0.8270 - val_loss: 0.6622\n",
      "Epoch 100/100\n",
      "\u001b[1m65/65\u001b[0m \u001b[32m━━━━━━━━━━━━━━━━━━━━\u001b[0m\u001b[37m\u001b[0m \u001b[1m8s\u001b[0m 119ms/step - accuracy: 0.9309 - loss: 0.1435 - val_accuracy: 0.8260 - val_loss: 0.6460\n"
     ]
    }
   ],
   "source": [
    "history = model.fit(x_train, y_train, batch_size=64, epochs=50,validation_data=(x_test, y_test))"
   ]
  },
  {
   "cell_type": "code",
   "execution_count": 14,
   "metadata": {},
   "outputs": [
    {
     "name": "stdout",
     "output_type": "stream",
     "text": [
      "Expected input shape: (None, 64, 64, 3)\n"
     ]
    }
   ],
   "source": [
    "\n",
    "input_shape = model.input_shape\n",
    "print(\"Expected input shape:\", input_shape)"
   ]
  },
  {
   "cell_type": "code",
   "execution_count": 15,
   "metadata": {},
   "outputs": [
    {
     "name": "stdout",
     "output_type": "stream",
     "text": [
      "\u001b[1m1/1\u001b[0m \u001b[32m━━━━━━━━━━━━━━━━━━━━\u001b[0m\u001b[37m\u001b[0m \u001b[1m0s\u001b[0m 262ms/step\n",
      "Predictions: [[0.8026875  0.1692112  0.02810128]]\n"
     ]
    }
   ],
   "source": [
    "import numpy as np\n",
    "input_image = np.random.random((64, 64, 3))  # Example input\n",
    "\n",
    "# Normalize input image if needed (depends on how the model was trained)\n",
    "input_image = input_image / 255.0\n",
    "\n",
    "# Add batch dimension\n",
    "input_image = np.expand_dims(input_image, axis=0)\n",
    "\n",
    "# Make predictions\n",
    "preds = model.predict(input_image)\n",
    "\n",
    "# Process the predictions\n",
    "print(\"Predictions:\", preds)\n"
   ]
  },
  {
   "cell_type": "code",
   "execution_count": 16,
   "metadata": {},
   "outputs": [
    {
     "name": "stderr",
     "output_type": "stream",
     "text": [
      "WARNING:absl:You are saving your model as an HDF5 file via `model.save()` or `keras.saving.save_model(model)`. This file format is considered legacy. We recommend using instead the native Keras format, e.g. `model.save('my_model.keras')` or `keras.saving.save_model(model, 'my_model.keras')`. \n"
     ]
    }
   ],
   "source": [
    "model.save('C:/Users/home/Desktop/nirva-agni bscode/v1.h5')\n"
   ]
  },
  {
   "cell_type": "code",
   "execution_count": 12,
   "metadata": {},
   "outputs": [
    {
     "name": "stdout",
     "output_type": "stream",
     "text": [
      "\u001b[1m1/1\u001b[0m \u001b[32m━━━━━━━━━━━━━━━━━━━━\u001b[0m\u001b[37m\u001b[0m \u001b[1m1s\u001b[0m 547ms/step\n",
      "Predictions: [[5.8820564e-01 1.9437496e-07 4.1179410e-01]]\n",
      "\u001b[1m1/1\u001b[0m \u001b[32m━━━━━━━━━━━━━━━━━━━━\u001b[0m\u001b[37m\u001b[0m \u001b[1m0s\u001b[0m 63ms/step\n"
     ]
    },
    {
     "data": {
      "text/plain": [
       "0"
      ]
     },
     "execution_count": 12,
     "metadata": {},
     "output_type": "execute_result"
    }
   ],
   "source": [
    "input_image = np.expand_dims(X[6], axis=0)\n",
    "\n",
    "# Make predictions\n",
    "preds = model.predict(input_image)\n",
    "\n",
    "# Process the predictions\n",
    "print(\"Predictions:\", preds)\n",
    "l=np.argmax(model.predict(input_image))\n",
    "l"
   ]
  },
  {
   "cell_type": "code",
   "execution_count": null,
   "metadata": {},
   "outputs": [],
   "source": []
  }
 ],
 "metadata": {
  "kernelspec": {
   "display_name": "base",
   "language": "python",
   "name": "python3"
  },
  "language_info": {
   "codemirror_mode": {
    "name": "ipython",
    "version": 3
   },
   "file_extension": ".py",
   "mimetype": "text/x-python",
   "name": "python",
   "nbconvert_exporter": "python",
   "pygments_lexer": "ipython3",
   "version": "3.11.7"
  }
 },
 "nbformat": 4,
 "nbformat_minor": 2
}
